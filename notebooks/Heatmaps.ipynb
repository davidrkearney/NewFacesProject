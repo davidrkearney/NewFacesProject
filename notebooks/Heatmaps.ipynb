{
 "cells": [
  {
   "cell_type": "code",
   "execution_count": 1,
   "metadata": {
    "ExecuteTime": {
     "end_time": "2019-09-08T22:47:11.569269Z",
     "start_time": "2019-09-08T22:47:07.758447Z"
    }
   },
   "outputs": [],
   "source": [
    "# Importing the necessary packages!\n",
    "from jupyterthemes import jtplot\n",
    "import warnings\n",
    "from imblearn.over_sampling import SMOTE\n",
    "import seaborn as sns\n",
    "from sklearn.model_selection import train_test_split\n",
    "import pandas as pd\n",
    "import numpy as np\n",
    "import pandas_profiling\n",
    "from sklearn.linear_model import LogisticRegression\n",
    "from sklearn import datasets\n",
    "from sklearn.preprocessing import StandardScaler\n",
    "from sklearn import preprocessing\n",
    "import matplotlib.pyplot as plt\n",
    "%matplotlib inline\n",
    "# ignore warnings\n",
    "warnings.filterwarnings('ignore')\n",
    "\n",
    "jtplot.style(theme='oceans16', context='notebook',\n",
    "             ticks=True, grid=False, figsize=(10, 9))"
   ]
  },
  {
   "cell_type": "code",
   "execution_count": 2,
   "metadata": {
    "ExecuteTime": {
     "end_time": "2019-09-08T22:47:11.592972Z",
     "start_time": "2019-09-08T22:47:11.572490Z"
    }
   },
   "outputs": [],
   "source": [
    "df=pd.read_csv('./processed_data/nf_complete.csv')"
   ]
  },
  {
   "cell_type": "code",
   "execution_count": 10,
   "metadata": {
    "ExecuteTime": {
     "end_time": "2019-09-08T22:47:40.933852Z",
     "start_time": "2019-09-08T22:47:40.720303Z"
    }
   },
   "outputs": [
    {
     "name": "stdout",
     "output_type": "stream",
     "text": [
      "<class 'pandas.core.frame.DataFrame'>\n",
      "RangeIndex: 126 entries, 0 to 125\n",
      "Data columns (total 23 columns):\n",
      "Unnamed: 0               126 non-null int64\n",
      "year                     126 non-null int64\n",
      "title                    126 non-null object\n",
      "abstract                 126 non-null object\n",
      "theme                    126 non-null object\n",
      "China                    126 non-null int64\n",
      "Russia                   126 non-null int64\n",
      "War                      126 non-null int64\n",
      "President                126 non-null int64\n",
      "US                       126 non-null int64\n",
      "Vietnam                  126 non-null int64\n",
      "Cold War                 126 non-null int64\n",
      "World War                126 non-null int64\n",
      "Vietnam War              126 non-null int64\n",
      "Korean War               126 non-null int64\n",
      "Survey                   126 non-null int64\n",
      "Case Study               126 non-null int64\n",
      "Trade                    126 non-null int64\n",
      "Humanitarian             126 non-null int64\n",
      "fixed_effects            126 non-null int64\n",
      "instrumental_variable    126 non-null int64\n",
      "regression               126 non-null int64\n",
      "experimental             126 non-null int64\n",
      "dtypes: int64(20), object(3)\n",
      "memory usage: 22.7+ KB\n"
     ]
    }
   ],
   "source": [
    "df.info()"
   ]
  },
  {
   "cell_type": "code",
   "execution_count": 15,
   "metadata": {
    "ExecuteTime": {
     "end_time": "2019-09-08T22:49:17.388915Z",
     "start_time": "2019-09-08T22:49:16.354909Z"
    }
   },
   "outputs": [
    {
     "data": {
      "application/vnd.plotly.v1+json": {
       "config": {
        "plotlyServerURL": "https://plot.ly"
       },
       "data": [
        {
         "alignmentgroup": "True",
         "bingroup": "x",
         "histfunc": "sum",
         "hoverlabel": {
          "namelength": 0
         },
         "hovertemplate": "theme=Conflict Between States<br>year=%{x}<br>sum of Cold War=%{y}",
         "legendgroup": "theme=Conflict Between States",
         "marker": {
          "color": "#636efa"
         },
         "name": "theme=Conflict Between States",
         "offsetgroup": "theme=Conflict Between States",
         "orientation": "v",
         "showlegend": true,
         "type": "histogram",
         "x": [
          2000,
          2002,
          2008,
          2009
         ],
         "xaxis": "x",
         "y": [
          0,
          0,
          0,
          0
         ],
         "yaxis": "y"
        },
        {
         "alignmentgroup": "True",
         "bingroup": "x",
         "histfunc": "sum",
         "hoverlabel": {
          "namelength": 0
         },
         "hovertemplate": "theme=Conflit Between States<br>year=%{x}<br>sum of Cold War=%{y}",
         "legendgroup": "theme=Conflit Between States",
         "marker": {
          "color": "#EF553B"
         },
         "name": "theme=Conflit Between States",
         "offsetgroup": "theme=Conflit Between States",
         "orientation": "v",
         "showlegend": true,
         "type": "histogram",
         "x": [
          2000
         ],
         "xaxis": "x",
         "y": [
          1
         ],
         "yaxis": "y"
        },
        {
         "alignmentgroup": "True",
         "bingroup": "x",
         "histfunc": "sum",
         "hoverlabel": {
          "namelength": 0
         },
         "hovertemplate": "theme=Culture<br>year=%{x}<br>sum of Cold War=%{y}",
         "legendgroup": "theme=Culture",
         "marker": {
          "color": "#00cc96"
         },
         "name": "theme=Culture",
         "offsetgroup": "theme=Culture",
         "orientation": "v",
         "showlegend": true,
         "type": "histogram",
         "x": [
          2000,
          2002
         ],
         "xaxis": "x",
         "y": [
          0,
          0
         ],
         "yaxis": "y"
        },
        {
         "alignmentgroup": "True",
         "bingroup": "x",
         "histfunc": "sum",
         "hoverlabel": {
          "namelength": 0
         },
         "hovertemplate": "theme=Culture / Peace Process<br>year=%{x}<br>sum of Cold War=%{y}",
         "legendgroup": "theme=Culture / Peace Process",
         "marker": {
          "color": "#ab63fa"
         },
         "name": "theme=Culture / Peace Process",
         "offsetgroup": "theme=Culture / Peace Process",
         "orientation": "v",
         "showlegend": true,
         "type": "histogram",
         "x": [
          2000
         ],
         "xaxis": "x",
         "y": [
          0
         ],
         "yaxis": "y"
        },
        {
         "alignmentgroup": "True",
         "bingroup": "x",
         "histfunc": "sum",
         "hoverlabel": {
          "namelength": 0
         },
         "hovertemplate": "theme=Domestic Military History<br>year=%{x}<br>sum of Cold War=%{y}",
         "legendgroup": "theme=Domestic Military History",
         "marker": {
          "color": "#FFA15A"
         },
         "name": "theme=Domestic Military History",
         "offsetgroup": "theme=Domestic Military History",
         "orientation": "v",
         "showlegend": true,
         "type": "histogram",
         "x": [
          2000
         ],
         "xaxis": "x",
         "y": [
          0
         ],
         "yaxis": "y"
        },
        {
         "alignmentgroup": "True",
         "bingroup": "x",
         "histfunc": "sum",
         "hoverlabel": {
          "namelength": 0
         },
         "hovertemplate": "theme=IR scholarship<br>year=%{x}<br>sum of Cold War=%{y}",
         "legendgroup": "theme=IR scholarship",
         "marker": {
          "color": "#19d3f3"
         },
         "name": "theme=IR scholarship",
         "offsetgroup": "theme=IR scholarship",
         "orientation": "v",
         "showlegend": true,
         "type": "histogram",
         "x": [
          2000
         ],
         "xaxis": "x",
         "y": [
          1
         ],
         "yaxis": "y"
        },
        {
         "alignmentgroup": "True",
         "bingroup": "x",
         "histfunc": "sum",
         "hoverlabel": {
          "namelength": 0
         },
         "hovertemplate": "theme=Canadian History / War History<br>year=%{x}<br>sum of Cold War=%{y}",
         "legendgroup": "theme=Canadian History / War History",
         "marker": {
          "color": "#FF6692"
         },
         "name": "theme=Canadian History / War History",
         "offsetgroup": "theme=Canadian History / War History",
         "orientation": "v",
         "showlegend": true,
         "type": "histogram",
         "x": [
          2001
         ],
         "xaxis": "x",
         "y": [
          0
         ],
         "yaxis": "y"
        },
        {
         "alignmentgroup": "True",
         "bingroup": "x",
         "histfunc": "sum",
         "hoverlabel": {
          "namelength": 0
         },
         "hovertemplate": "theme=Conflict between states<br>year=%{x}<br>sum of Cold War=%{y}",
         "legendgroup": "theme=Conflict between states",
         "marker": {
          "color": "#B6E880"
         },
         "name": "theme=Conflict between states",
         "offsetgroup": "theme=Conflict between states",
         "orientation": "v",
         "showlegend": true,
         "type": "histogram",
         "x": [
          2001,
          2008,
          2012,
          2014,
          2016,
          2018
         ],
         "xaxis": "x",
         "y": [
          0,
          0,
          0,
          0,
          1,
          0
         ],
         "yaxis": "y"
        },
        {
         "alignmentgroup": "True",
         "bingroup": "x",
         "histfunc": "sum",
         "hoverlabel": {
          "namelength": 0
         },
         "hovertemplate": "theme=Ethics of War<br>year=%{x}<br>sum of Cold War=%{y}",
         "legendgroup": "theme=Ethics of War",
         "marker": {
          "color": "#FF97FF"
         },
         "name": "theme=Ethics of War",
         "offsetgroup": "theme=Ethics of War",
         "orientation": "v",
         "showlegend": true,
         "type": "histogram",
         "x": [
          2001
         ],
         "xaxis": "x",
         "y": [
          0
         ],
         "yaxis": "y"
        },
        {
         "alignmentgroup": "True",
         "bingroup": "x",
         "histfunc": "sum",
         "hoverlabel": {
          "namelength": 0
         },
         "hovertemplate": "theme=IR Scholarship<br>year=%{x}<br>sum of Cold War=%{y}",
         "legendgroup": "theme=IR Scholarship",
         "marker": {
          "color": "#FECB52"
         },
         "name": "theme=IR Scholarship",
         "offsetgroup": "theme=IR Scholarship",
         "orientation": "v",
         "showlegend": true,
         "type": "histogram",
         "x": [
          2001,
          2002,
          2004,
          2005,
          2007,
          2008,
          2009,
          2010,
          2011,
          2012,
          2013,
          2014,
          2015,
          2017,
          2018
         ],
         "xaxis": "x",
         "y": [
          1,
          0,
          1,
          0,
          0,
          0,
          0,
          0,
          1,
          0,
          0,
          1,
          0,
          0,
          0
         ],
         "yaxis": "y"
        },
        {
         "alignmentgroup": "True",
         "bingroup": "x",
         "histfunc": "sum",
         "hoverlabel": {
          "namelength": 0
         },
         "hovertemplate": "theme=Military History<br>year=%{x}<br>sum of Cold War=%{y}",
         "legendgroup": "theme=Military History",
         "marker": {
          "color": "#636efa"
         },
         "name": "theme=Military History",
         "offsetgroup": "theme=Military History",
         "orientation": "v",
         "showlegend": true,
         "type": "histogram",
         "x": [
          2001,
          2002,
          2003,
          2004,
          2005,
          2008,
          2009,
          2010,
          2012,
          2013,
          2015,
          2016,
          2017,
          2018
         ],
         "xaxis": "x",
         "y": [
          1,
          0,
          0,
          1,
          0,
          0,
          0,
          0,
          0,
          0,
          0,
          0,
          0,
          0
         ],
         "yaxis": "y"
        },
        {
         "alignmentgroup": "True",
         "bingroup": "x",
         "histfunc": "sum",
         "hoverlabel": {
          "namelength": 0
         },
         "hovertemplate": "theme=Peace Process<br>year=%{x}<br>sum of Cold War=%{y}",
         "legendgroup": "theme=Peace Process",
         "marker": {
          "color": "#EF553B"
         },
         "name": "theme=Peace Process",
         "offsetgroup": "theme=Peace Process",
         "orientation": "v",
         "showlegend": true,
         "type": "histogram",
         "x": [
          2001
         ],
         "xaxis": "x",
         "y": [
          0
         ],
         "yaxis": "y"
        },
        {
         "alignmentgroup": "True",
         "bingroup": "x",
         "histfunc": "sum",
         "hoverlabel": {
          "namelength": 0
         },
         "hovertemplate": "theme=Civil War<br>year=%{x}<br>sum of Cold War=%{y}",
         "legendgroup": "theme=Civil War",
         "marker": {
          "color": "#00cc96"
         },
         "name": "theme=Civil War",
         "offsetgroup": "theme=Civil War",
         "orientation": "v",
         "showlegend": true,
         "type": "histogram",
         "x": [
          2002
         ],
         "xaxis": "x",
         "y": [
          0
         ],
         "yaxis": "y"
        },
        {
         "alignmentgroup": "True",
         "bingroup": "x",
         "histfunc": "sum",
         "hoverlabel": {
          "namelength": 0
         },
         "hovertemplate": "theme=Military Technology<br>year=%{x}<br>sum of Cold War=%{y}",
         "legendgroup": "theme=Military Technology",
         "marker": {
          "color": "#ab63fa"
         },
         "name": "theme=Military Technology",
         "offsetgroup": "theme=Military Technology",
         "orientation": "v",
         "showlegend": true,
         "type": "histogram",
         "x": [
          2002
         ],
         "xaxis": "x",
         "y": [
          1
         ],
         "yaxis": "y"
        },
        {
         "alignmentgroup": "True",
         "bingroup": "x",
         "histfunc": "sum",
         "hoverlabel": {
          "namelength": 0
         },
         "hovertemplate": "theme=Nuclear Weapons<br>year=%{x}<br>sum of Cold War=%{y}",
         "legendgroup": "theme=Nuclear Weapons",
         "marker": {
          "color": "#FFA15A"
         },
         "name": "theme=Nuclear Weapons",
         "offsetgroup": "theme=Nuclear Weapons",
         "orientation": "v",
         "showlegend": true,
         "type": "histogram",
         "x": [
          2002,
          2009,
          2014,
          2015,
          2018
         ],
         "xaxis": "x",
         "y": [
          0,
          0,
          0,
          0,
          0
         ],
         "yaxis": "y"
        },
        {
         "alignmentgroup": "True",
         "bingroup": "x",
         "histfunc": "sum",
         "hoverlabel": {
          "namelength": 0
         },
         "hovertemplate": "theme=Vietnam War / Conflict Between States<br>year=%{x}<br>sum of Cold War=%{y}",
         "legendgroup": "theme=Vietnam War / Conflict Between States",
         "marker": {
          "color": "#19d3f3"
         },
         "name": "theme=Vietnam War / Conflict Between States",
         "offsetgroup": "theme=Vietnam War / Conflict Between States",
         "orientation": "v",
         "showlegend": true,
         "type": "histogram",
         "x": [
          2002
         ],
         "xaxis": "x",
         "y": [
          1
         ],
         "yaxis": "y"
        },
        {
         "alignmentgroup": "True",
         "bingroup": "x",
         "histfunc": "sum",
         "hoverlabel": {
          "namelength": 0
         },
         "hovertemplate": "theme=Unconventional Warfare / Conflcit Between States<br>year=%{x}<br>sum of Cold War=%{y}",
         "legendgroup": "theme=Unconventional Warfare / Conflcit Between States",
         "marker": {
          "color": "#FF6692"
         },
         "name": "theme=Unconventional Warfare / Conflcit Between States",
         "offsetgroup": "theme=Unconventional Warfare / Conflcit Between States",
         "orientation": "v",
         "showlegend": true,
         "type": "histogram",
         "x": [
          2003
         ],
         "xaxis": "x",
         "y": [
          0
         ],
         "yaxis": "y"
        },
        {
         "alignmentgroup": "True",
         "bingroup": "x",
         "histfunc": "sum",
         "hoverlabel": {
          "namelength": 0
         },
         "hovertemplate": "theme=Conflict Between states<br>year=%{x}<br>sum of Cold War=%{y}",
         "legendgroup": "theme=Conflict Between states",
         "marker": {
          "color": "#B6E880"
         },
         "name": "theme=Conflict Between states",
         "offsetgroup": "theme=Conflict Between states",
         "orientation": "v",
         "showlegend": true,
         "type": "histogram",
         "x": [
          2004
         ],
         "xaxis": "x",
         "y": [
          0
         ],
         "yaxis": "y"
        },
        {
         "alignmentgroup": "True",
         "bingroup": "x",
         "histfunc": "sum",
         "hoverlabel": {
          "namelength": 0
         },
         "hovertemplate": "theme=ConflictBetween states<br>year=%{x}<br>sum of Cold War=%{y}",
         "legendgroup": "theme=ConflictBetween states",
         "marker": {
          "color": "#FF97FF"
         },
         "name": "theme=ConflictBetween states",
         "offsetgroup": "theme=ConflictBetween states",
         "orientation": "v",
         "showlegend": true,
         "type": "histogram",
         "x": [
          2004
         ],
         "xaxis": "x",
         "y": [
          0
         ],
         "yaxis": "y"
        },
        {
         "alignmentgroup": "True",
         "bingroup": "x",
         "histfunc": "sum",
         "hoverlabel": {
          "namelength": 0
         },
         "hovertemplate": "theme=Domestic Policy<br>year=%{x}<br>sum of Cold War=%{y}",
         "legendgroup": "theme=Domestic Policy",
         "marker": {
          "color": "#FECB52"
         },
         "name": "theme=Domestic Policy",
         "offsetgroup": "theme=Domestic Policy",
         "orientation": "v",
         "showlegend": true,
         "type": "histogram",
         "x": [
          2005
         ],
         "xaxis": "x",
         "y": [
          0
         ],
         "yaxis": "y"
        },
        {
         "alignmentgroup": "True",
         "bingroup": "x",
         "histfunc": "sum",
         "hoverlabel": {
          "namelength": 0
         },
         "hovertemplate": "theme=Miltary History<br>year=%{x}<br>sum of Cold War=%{y}",
         "legendgroup": "theme=Miltary History",
         "marker": {
          "color": "#636efa"
         },
         "name": "theme=Miltary History",
         "offsetgroup": "theme=Miltary History",
         "orientation": "v",
         "showlegend": true,
         "type": "histogram",
         "x": [
          2007
         ],
         "xaxis": "x",
         "y": [
          1
         ],
         "yaxis": "y"
        },
        {
         "alignmentgroup": "True",
         "bingroup": "x",
         "histfunc": "sum",
         "hoverlabel": {
          "namelength": 0
         },
         "hovertemplate": "theme=Nonstate<br>year=%{x}<br>sum of Cold War=%{y}",
         "legendgroup": "theme=Nonstate",
         "marker": {
          "color": "#EF553B"
         },
         "name": "theme=Nonstate",
         "offsetgroup": "theme=Nonstate",
         "orientation": "v",
         "showlegend": true,
         "type": "histogram",
         "x": [
          2007,
          2008,
          2013
         ],
         "xaxis": "x",
         "y": [
          0,
          0,
          0
         ],
         "yaxis": "y"
        },
        {
         "alignmentgroup": "True",
         "bingroup": "x",
         "histfunc": "sum",
         "hoverlabel": {
          "namelength": 0
         },
         "hovertemplate": "theme=Other<br>year=%{x}<br>sum of Cold War=%{y}",
         "legendgroup": "theme=Other",
         "marker": {
          "color": "#00cc96"
         },
         "name": "theme=Other",
         "offsetgroup": "theme=Other",
         "orientation": "v",
         "showlegend": true,
         "type": "histogram",
         "x": [
          2007,
          2008,
          2013
         ],
         "xaxis": "x",
         "y": [
          1,
          0,
          0
         ],
         "yaxis": "y"
        },
        {
         "alignmentgroup": "True",
         "bingroup": "x",
         "histfunc": "sum",
         "hoverlabel": {
          "namelength": 0
         },
         "hovertemplate": "theme=ICS<br>year=%{x}<br>sum of Cold War=%{y}",
         "legendgroup": "theme=ICS",
         "marker": {
          "color": "#ab63fa"
         },
         "name": "theme=ICS",
         "offsetgroup": "theme=ICS",
         "orientation": "v",
         "showlegend": true,
         "type": "histogram",
         "x": [
          2009
         ],
         "xaxis": "x",
         "y": [
          0
         ],
         "yaxis": "y"
        },
        {
         "alignmentgroup": "True",
         "bingroup": "x",
         "histfunc": "sum",
         "hoverlabel": {
          "namelength": 0
         },
         "hovertemplate": "theme=Non-state<br>year=%{x}<br>sum of Cold War=%{y}",
         "legendgroup": "theme=Non-state",
         "marker": {
          "color": "#FFA15A"
         },
         "name": "theme=Non-state",
         "offsetgroup": "theme=Non-state",
         "orientation": "v",
         "showlegend": true,
         "type": "histogram",
         "x": [
          2009,
          2010,
          2015,
          2016
         ],
         "xaxis": "x",
         "y": [
          0,
          0,
          0,
          0
         ],
         "yaxis": "y"
        },
        {
         "alignmentgroup": "True",
         "bingroup": "x",
         "histfunc": "sum",
         "hoverlabel": {
          "namelength": 0
         },
         "hovertemplate": "theme=Cold War<br>year=%{x}<br>sum of Cold War=%{y}",
         "legendgroup": "theme=Cold War",
         "marker": {
          "color": "#19d3f3"
         },
         "name": "theme=Cold War",
         "offsetgroup": "theme=Cold War",
         "orientation": "v",
         "showlegend": true,
         "type": "histogram",
         "x": [
          2010,
          2017,
          2018
         ],
         "xaxis": "x",
         "y": [
          1,
          1,
          1
         ],
         "yaxis": "y"
        },
        {
         "alignmentgroup": "True",
         "bingroup": "x",
         "histfunc": "sum",
         "hoverlabel": {
          "namelength": 0
         },
         "hovertemplate": "theme=Terrorism<br>year=%{x}<br>sum of Cold War=%{y}",
         "legendgroup": "theme=Terrorism",
         "marker": {
          "color": "#FF6692"
         },
         "name": "theme=Terrorism",
         "offsetgroup": "theme=Terrorism",
         "orientation": "v",
         "showlegend": true,
         "type": "histogram",
         "x": [
          2010
         ],
         "xaxis": "x",
         "y": [
          0
         ],
         "yaxis": "y"
        },
        {
         "alignmentgroup": "True",
         "bingroup": "x",
         "histfunc": "sum",
         "hoverlabel": {
          "namelength": 0
         },
         "hovertemplate": "theme=Non-State<br>year=%{x}<br>sum of Cold War=%{y}",
         "legendgroup": "theme=Non-State",
         "marker": {
          "color": "#B6E880"
         },
         "name": "theme=Non-State",
         "offsetgroup": "theme=Non-State",
         "orientation": "v",
         "showlegend": true,
         "type": "histogram",
         "x": [
          2011
         ],
         "xaxis": "x",
         "y": [
          0
         ],
         "yaxis": "y"
        },
        {
         "alignmentgroup": "True",
         "bingroup": "x",
         "histfunc": "sum",
         "hoverlabel": {
          "namelength": 0
         },
         "hovertemplate": "theme=IR Scholarship / Nuclear Weapons<br>year=%{x}<br>sum of Cold War=%{y}",
         "legendgroup": "theme=IR Scholarship / Nuclear Weapons",
         "marker": {
          "color": "#FF97FF"
         },
         "name": "theme=IR Scholarship / Nuclear Weapons",
         "offsetgroup": "theme=IR Scholarship / Nuclear Weapons",
         "orientation": "v",
         "showlegend": true,
         "type": "histogram",
         "x": [
          2012
         ],
         "xaxis": "x",
         "y": [
          0
         ],
         "yaxis": "y"
        },
        {
         "alignmentgroup": "True",
         "bingroup": "x",
         "histfunc": "sum",
         "hoverlabel": {
          "namelength": 0
         },
         "hovertemplate": "theme=Civil-military<br>year=%{x}<br>sum of Cold War=%{y}",
         "legendgroup": "theme=Civil-military",
         "marker": {
          "color": "#FECB52"
         },
         "name": "theme=Civil-military",
         "offsetgroup": "theme=Civil-military",
         "orientation": "v",
         "showlegend": true,
         "type": "histogram",
         "x": [
          2014
         ],
         "xaxis": "x",
         "y": [
          0
         ],
         "yaxis": "y"
        },
        {
         "alignmentgroup": "True",
         "bingroup": "x",
         "histfunc": "sum",
         "hoverlabel": {
          "namelength": 0
         },
         "hovertemplate": "theme=Soviet Union<br>year=%{x}<br>sum of Cold War=%{y}",
         "legendgroup": "theme=Soviet Union",
         "marker": {
          "color": "#636efa"
         },
         "name": "theme=Soviet Union",
         "offsetgroup": "theme=Soviet Union",
         "orientation": "v",
         "showlegend": true,
         "type": "histogram",
         "x": [
          2015
         ],
         "xaxis": "x",
         "y": [
          1
         ],
         "yaxis": "y"
        },
        {
         "alignmentgroup": "True",
         "bingroup": "x",
         "histfunc": "sum",
         "hoverlabel": {
          "namelength": 0
         },
         "hovertemplate": "theme=Civ-Mil<br>year=%{x}<br>sum of Cold War=%{y}",
         "legendgroup": "theme=Civ-Mil",
         "marker": {
          "color": "#EF553B"
         },
         "name": "theme=Civ-Mil",
         "offsetgroup": "theme=Civ-Mil",
         "orientation": "v",
         "showlegend": true,
         "type": "histogram",
         "x": [
          2016
         ],
         "xaxis": "x",
         "y": [
          0
         ],
         "yaxis": "y"
        }
       ],
       "layout": {
        "barmode": "relative",
        "height": 600,
        "legend": {
         "tracegroupgap": 0
        },
        "margin": {
         "t": 60
        },
        "template": {
         "data": {
          "bar": [
           {
            "error_x": {
             "color": "#2a3f5f"
            },
            "error_y": {
             "color": "#2a3f5f"
            },
            "marker": {
             "line": {
              "color": "#E5ECF6",
              "width": 0.5
             }
            },
            "type": "bar"
           }
          ],
          "barpolar": [
           {
            "marker": {
             "line": {
              "color": "#E5ECF6",
              "width": 0.5
             }
            },
            "type": "barpolar"
           }
          ],
          "carpet": [
           {
            "aaxis": {
             "endlinecolor": "#2a3f5f",
             "gridcolor": "white",
             "linecolor": "white",
             "minorgridcolor": "white",
             "startlinecolor": "#2a3f5f"
            },
            "baxis": {
             "endlinecolor": "#2a3f5f",
             "gridcolor": "white",
             "linecolor": "white",
             "minorgridcolor": "white",
             "startlinecolor": "#2a3f5f"
            },
            "type": "carpet"
           }
          ],
          "choropleth": [
           {
            "colorbar": {
             "outlinewidth": 0,
             "ticks": ""
            },
            "type": "choropleth"
           }
          ],
          "contour": [
           {
            "colorbar": {
             "outlinewidth": 0,
             "ticks": ""
            },
            "colorscale": [
             [
              0,
              "#0d0887"
             ],
             [
              0.1111111111111111,
              "#46039f"
             ],
             [
              0.2222222222222222,
              "#7201a8"
             ],
             [
              0.3333333333333333,
              "#9c179e"
             ],
             [
              0.4444444444444444,
              "#bd3786"
             ],
             [
              0.5555555555555556,
              "#d8576b"
             ],
             [
              0.6666666666666666,
              "#ed7953"
             ],
             [
              0.7777777777777778,
              "#fb9f3a"
             ],
             [
              0.8888888888888888,
              "#fdca26"
             ],
             [
              1,
              "#f0f921"
             ]
            ],
            "type": "contour"
           }
          ],
          "contourcarpet": [
           {
            "colorbar": {
             "outlinewidth": 0,
             "ticks": ""
            },
            "type": "contourcarpet"
           }
          ],
          "heatmap": [
           {
            "colorbar": {
             "outlinewidth": 0,
             "ticks": ""
            },
            "colorscale": [
             [
              0,
              "#0d0887"
             ],
             [
              0.1111111111111111,
              "#46039f"
             ],
             [
              0.2222222222222222,
              "#7201a8"
             ],
             [
              0.3333333333333333,
              "#9c179e"
             ],
             [
              0.4444444444444444,
              "#bd3786"
             ],
             [
              0.5555555555555556,
              "#d8576b"
             ],
             [
              0.6666666666666666,
              "#ed7953"
             ],
             [
              0.7777777777777778,
              "#fb9f3a"
             ],
             [
              0.8888888888888888,
              "#fdca26"
             ],
             [
              1,
              "#f0f921"
             ]
            ],
            "type": "heatmap"
           }
          ],
          "heatmapgl": [
           {
            "colorbar": {
             "outlinewidth": 0,
             "ticks": ""
            },
            "colorscale": [
             [
              0,
              "#0d0887"
             ],
             [
              0.1111111111111111,
              "#46039f"
             ],
             [
              0.2222222222222222,
              "#7201a8"
             ],
             [
              0.3333333333333333,
              "#9c179e"
             ],
             [
              0.4444444444444444,
              "#bd3786"
             ],
             [
              0.5555555555555556,
              "#d8576b"
             ],
             [
              0.6666666666666666,
              "#ed7953"
             ],
             [
              0.7777777777777778,
              "#fb9f3a"
             ],
             [
              0.8888888888888888,
              "#fdca26"
             ],
             [
              1,
              "#f0f921"
             ]
            ],
            "type": "heatmapgl"
           }
          ],
          "histogram": [
           {
            "marker": {
             "colorbar": {
              "outlinewidth": 0,
              "ticks": ""
             }
            },
            "type": "histogram"
           }
          ],
          "histogram2d": [
           {
            "colorbar": {
             "outlinewidth": 0,
             "ticks": ""
            },
            "colorscale": [
             [
              0,
              "#0d0887"
             ],
             [
              0.1111111111111111,
              "#46039f"
             ],
             [
              0.2222222222222222,
              "#7201a8"
             ],
             [
              0.3333333333333333,
              "#9c179e"
             ],
             [
              0.4444444444444444,
              "#bd3786"
             ],
             [
              0.5555555555555556,
              "#d8576b"
             ],
             [
              0.6666666666666666,
              "#ed7953"
             ],
             [
              0.7777777777777778,
              "#fb9f3a"
             ],
             [
              0.8888888888888888,
              "#fdca26"
             ],
             [
              1,
              "#f0f921"
             ]
            ],
            "type": "histogram2d"
           }
          ],
          "histogram2dcontour": [
           {
            "colorbar": {
             "outlinewidth": 0,
             "ticks": ""
            },
            "colorscale": [
             [
              0,
              "#0d0887"
             ],
             [
              0.1111111111111111,
              "#46039f"
             ],
             [
              0.2222222222222222,
              "#7201a8"
             ],
             [
              0.3333333333333333,
              "#9c179e"
             ],
             [
              0.4444444444444444,
              "#bd3786"
             ],
             [
              0.5555555555555556,
              "#d8576b"
             ],
             [
              0.6666666666666666,
              "#ed7953"
             ],
             [
              0.7777777777777778,
              "#fb9f3a"
             ],
             [
              0.8888888888888888,
              "#fdca26"
             ],
             [
              1,
              "#f0f921"
             ]
            ],
            "type": "histogram2dcontour"
           }
          ],
          "mesh3d": [
           {
            "colorbar": {
             "outlinewidth": 0,
             "ticks": ""
            },
            "type": "mesh3d"
           }
          ],
          "parcoords": [
           {
            "line": {
             "colorbar": {
              "outlinewidth": 0,
              "ticks": ""
             }
            },
            "type": "parcoords"
           }
          ],
          "scatter": [
           {
            "marker": {
             "colorbar": {
              "outlinewidth": 0,
              "ticks": ""
             }
            },
            "type": "scatter"
           }
          ],
          "scatter3d": [
           {
            "line": {
             "colorbar": {
              "outlinewidth": 0,
              "ticks": ""
             }
            },
            "marker": {
             "colorbar": {
              "outlinewidth": 0,
              "ticks": ""
             }
            },
            "type": "scatter3d"
           }
          ],
          "scattercarpet": [
           {
            "marker": {
             "colorbar": {
              "outlinewidth": 0,
              "ticks": ""
             }
            },
            "type": "scattercarpet"
           }
          ],
          "scattergeo": [
           {
            "marker": {
             "colorbar": {
              "outlinewidth": 0,
              "ticks": ""
             }
            },
            "type": "scattergeo"
           }
          ],
          "scattergl": [
           {
            "marker": {
             "colorbar": {
              "outlinewidth": 0,
              "ticks": ""
             }
            },
            "type": "scattergl"
           }
          ],
          "scattermapbox": [
           {
            "marker": {
             "colorbar": {
              "outlinewidth": 0,
              "ticks": ""
             }
            },
            "type": "scattermapbox"
           }
          ],
          "scatterpolar": [
           {
            "marker": {
             "colorbar": {
              "outlinewidth": 0,
              "ticks": ""
             }
            },
            "type": "scatterpolar"
           }
          ],
          "scatterpolargl": [
           {
            "marker": {
             "colorbar": {
              "outlinewidth": 0,
              "ticks": ""
             }
            },
            "type": "scatterpolargl"
           }
          ],
          "scatterternary": [
           {
            "marker": {
             "colorbar": {
              "outlinewidth": 0,
              "ticks": ""
             }
            },
            "type": "scatterternary"
           }
          ],
          "surface": [
           {
            "colorbar": {
             "outlinewidth": 0,
             "ticks": ""
            },
            "colorscale": [
             [
              0,
              "#0d0887"
             ],
             [
              0.1111111111111111,
              "#46039f"
             ],
             [
              0.2222222222222222,
              "#7201a8"
             ],
             [
              0.3333333333333333,
              "#9c179e"
             ],
             [
              0.4444444444444444,
              "#bd3786"
             ],
             [
              0.5555555555555556,
              "#d8576b"
             ],
             [
              0.6666666666666666,
              "#ed7953"
             ],
             [
              0.7777777777777778,
              "#fb9f3a"
             ],
             [
              0.8888888888888888,
              "#fdca26"
             ],
             [
              1,
              "#f0f921"
             ]
            ],
            "type": "surface"
           }
          ],
          "table": [
           {
            "cells": {
             "fill": {
              "color": "#EBF0F8"
             },
             "line": {
              "color": "white"
             }
            },
            "header": {
             "fill": {
              "color": "#C8D4E3"
             },
             "line": {
              "color": "white"
             }
            },
            "type": "table"
           }
          ]
         },
         "layout": {
          "annotationdefaults": {
           "arrowcolor": "#2a3f5f",
           "arrowhead": 0,
           "arrowwidth": 1
          },
          "colorscale": {
           "diverging": [
            [
             0,
             "#8e0152"
            ],
            [
             0.1,
             "#c51b7d"
            ],
            [
             0.2,
             "#de77ae"
            ],
            [
             0.3,
             "#f1b6da"
            ],
            [
             0.4,
             "#fde0ef"
            ],
            [
             0.5,
             "#f7f7f7"
            ],
            [
             0.6,
             "#e6f5d0"
            ],
            [
             0.7,
             "#b8e186"
            ],
            [
             0.8,
             "#7fbc41"
            ],
            [
             0.9,
             "#4d9221"
            ],
            [
             1,
             "#276419"
            ]
           ],
           "sequential": [
            [
             0,
             "#0d0887"
            ],
            [
             0.1111111111111111,
             "#46039f"
            ],
            [
             0.2222222222222222,
             "#7201a8"
            ],
            [
             0.3333333333333333,
             "#9c179e"
            ],
            [
             0.4444444444444444,
             "#bd3786"
            ],
            [
             0.5555555555555556,
             "#d8576b"
            ],
            [
             0.6666666666666666,
             "#ed7953"
            ],
            [
             0.7777777777777778,
             "#fb9f3a"
            ],
            [
             0.8888888888888888,
             "#fdca26"
            ],
            [
             1,
             "#f0f921"
            ]
           ],
           "sequentialminus": [
            [
             0,
             "#0d0887"
            ],
            [
             0.1111111111111111,
             "#46039f"
            ],
            [
             0.2222222222222222,
             "#7201a8"
            ],
            [
             0.3333333333333333,
             "#9c179e"
            ],
            [
             0.4444444444444444,
             "#bd3786"
            ],
            [
             0.5555555555555556,
             "#d8576b"
            ],
            [
             0.6666666666666666,
             "#ed7953"
            ],
            [
             0.7777777777777778,
             "#fb9f3a"
            ],
            [
             0.8888888888888888,
             "#fdca26"
            ],
            [
             1,
             "#f0f921"
            ]
           ]
          },
          "colorway": [
           "#636efa",
           "#EF553B",
           "#00cc96",
           "#ab63fa",
           "#FFA15A",
           "#19d3f3",
           "#FF6692",
           "#B6E880",
           "#FF97FF",
           "#FECB52"
          ],
          "font": {
           "color": "#2a3f5f"
          },
          "geo": {
           "bgcolor": "white",
           "lakecolor": "white",
           "landcolor": "#E5ECF6",
           "showlakes": true,
           "showland": true,
           "subunitcolor": "white"
          },
          "hoverlabel": {
           "align": "left"
          },
          "hovermode": "closest",
          "mapbox": {
           "style": "light"
          },
          "paper_bgcolor": "white",
          "plot_bgcolor": "#E5ECF6",
          "polar": {
           "angularaxis": {
            "gridcolor": "white",
            "linecolor": "white",
            "ticks": ""
           },
           "bgcolor": "#E5ECF6",
           "radialaxis": {
            "gridcolor": "white",
            "linecolor": "white",
            "ticks": ""
           }
          },
          "scene": {
           "xaxis": {
            "backgroundcolor": "#E5ECF6",
            "gridcolor": "white",
            "gridwidth": 2,
            "linecolor": "white",
            "showbackground": true,
            "ticks": "",
            "zerolinecolor": "white"
           },
           "yaxis": {
            "backgroundcolor": "#E5ECF6",
            "gridcolor": "white",
            "gridwidth": 2,
            "linecolor": "white",
            "showbackground": true,
            "ticks": "",
            "zerolinecolor": "white"
           },
           "zaxis": {
            "backgroundcolor": "#E5ECF6",
            "gridcolor": "white",
            "gridwidth": 2,
            "linecolor": "white",
            "showbackground": true,
            "ticks": "",
            "zerolinecolor": "white"
           }
          },
          "shapedefaults": {
           "line": {
            "color": "#2a3f5f"
           }
          },
          "ternary": {
           "aaxis": {
            "gridcolor": "white",
            "linecolor": "white",
            "ticks": ""
           },
           "baxis": {
            "gridcolor": "white",
            "linecolor": "white",
            "ticks": ""
           },
           "bgcolor": "#E5ECF6",
           "caxis": {
            "gridcolor": "white",
            "linecolor": "white",
            "ticks": ""
           }
          },
          "title": {
           "x": 0.05
          },
          "xaxis": {
           "automargin": true,
           "gridcolor": "white",
           "linecolor": "white",
           "ticks": "",
           "zerolinecolor": "white",
           "zerolinewidth": 2
          },
          "yaxis": {
           "automargin": true,
           "gridcolor": "white",
           "linecolor": "white",
           "ticks": "",
           "zerolinecolor": "white",
           "zerolinewidth": 2
          }
         }
        },
        "xaxis": {
         "anchor": "y",
         "domain": [
          0,
          0.98
         ],
         "title": {
          "text": "year"
         }
        },
        "yaxis": {
         "anchor": "x",
         "domain": [
          0,
          1
         ],
         "title": {
          "text": "sum of Cold War"
         }
        }
       }
      },
      "text/html": [
       "<div>\n",
       "        \n",
       "        \n",
       "            <div id=\"4bfdfe91-1cdd-4d09-bf8e-a863b446215c\" class=\"plotly-graph-div\" style=\"height:600px; width:100%;\"></div>\n",
       "            <script type=\"text/javascript\">\n",
       "                require([\"plotly\"], function(Plotly) {\n",
       "                    window.PLOTLYENV=window.PLOTLYENV || {};\n",
       "                    \n",
       "                if (document.getElementById(\"4bfdfe91-1cdd-4d09-bf8e-a863b446215c\")) {\n",
       "                    Plotly.newPlot(\n",
       "                        '4bfdfe91-1cdd-4d09-bf8e-a863b446215c',\n",
       "                        [{\"alignmentgroup\": \"True\", \"bingroup\": \"x\", \"histfunc\": \"sum\", \"hoverlabel\": {\"namelength\": 0}, \"hovertemplate\": \"theme=Conflict Between States<br>year=%{x}<br>sum of Cold War=%{y}\", \"legendgroup\": \"theme=Conflict Between States\", \"marker\": {\"color\": \"#636efa\"}, \"name\": \"theme=Conflict Between States\", \"offsetgroup\": \"theme=Conflict Between States\", \"orientation\": \"v\", \"showlegend\": true, \"type\": \"histogram\", \"x\": [2000, 2002, 2008, 2009], \"xaxis\": \"x\", \"y\": [0, 0, 0, 0], \"yaxis\": \"y\"}, {\"alignmentgroup\": \"True\", \"bingroup\": \"x\", \"histfunc\": \"sum\", \"hoverlabel\": {\"namelength\": 0}, \"hovertemplate\": \"theme=Conflit Between States<br>year=%{x}<br>sum of Cold War=%{y}\", \"legendgroup\": \"theme=Conflit Between States\", \"marker\": {\"color\": \"#EF553B\"}, \"name\": \"theme=Conflit Between States\", \"offsetgroup\": \"theme=Conflit Between States\", \"orientation\": \"v\", \"showlegend\": true, \"type\": \"histogram\", \"x\": [2000], \"xaxis\": \"x\", \"y\": [1], \"yaxis\": \"y\"}, {\"alignmentgroup\": \"True\", \"bingroup\": \"x\", \"histfunc\": \"sum\", \"hoverlabel\": {\"namelength\": 0}, \"hovertemplate\": \"theme=Culture<br>year=%{x}<br>sum of Cold War=%{y}\", \"legendgroup\": \"theme=Culture\", \"marker\": {\"color\": \"#00cc96\"}, \"name\": \"theme=Culture\", \"offsetgroup\": \"theme=Culture\", \"orientation\": \"v\", \"showlegend\": true, \"type\": \"histogram\", \"x\": [2000, 2002], \"xaxis\": \"x\", \"y\": [0, 0], \"yaxis\": \"y\"}, {\"alignmentgroup\": \"True\", \"bingroup\": \"x\", \"histfunc\": \"sum\", \"hoverlabel\": {\"namelength\": 0}, \"hovertemplate\": \"theme=Culture / Peace Process<br>year=%{x}<br>sum of Cold War=%{y}\", \"legendgroup\": \"theme=Culture / Peace Process\", \"marker\": {\"color\": \"#ab63fa\"}, \"name\": \"theme=Culture / Peace Process\", \"offsetgroup\": \"theme=Culture / Peace Process\", \"orientation\": \"v\", \"showlegend\": true, \"type\": \"histogram\", \"x\": [2000], \"xaxis\": \"x\", \"y\": [0], \"yaxis\": \"y\"}, {\"alignmentgroup\": \"True\", \"bingroup\": \"x\", \"histfunc\": \"sum\", \"hoverlabel\": {\"namelength\": 0}, \"hovertemplate\": \"theme=Domestic Military History<br>year=%{x}<br>sum of Cold War=%{y}\", \"legendgroup\": \"theme=Domestic Military History\", \"marker\": {\"color\": \"#FFA15A\"}, \"name\": \"theme=Domestic Military History\", \"offsetgroup\": \"theme=Domestic Military History\", \"orientation\": \"v\", \"showlegend\": true, \"type\": \"histogram\", \"x\": [2000], \"xaxis\": \"x\", \"y\": [0], \"yaxis\": \"y\"}, {\"alignmentgroup\": \"True\", \"bingroup\": \"x\", \"histfunc\": \"sum\", \"hoverlabel\": {\"namelength\": 0}, \"hovertemplate\": \"theme=IR scholarship<br>year=%{x}<br>sum of Cold War=%{y}\", \"legendgroup\": \"theme=IR scholarship\", \"marker\": {\"color\": \"#19d3f3\"}, \"name\": \"theme=IR scholarship\", \"offsetgroup\": \"theme=IR scholarship\", \"orientation\": \"v\", \"showlegend\": true, \"type\": \"histogram\", \"x\": [2000], \"xaxis\": \"x\", \"y\": [1], \"yaxis\": \"y\"}, {\"alignmentgroup\": \"True\", \"bingroup\": \"x\", \"histfunc\": \"sum\", \"hoverlabel\": {\"namelength\": 0}, \"hovertemplate\": \"theme=Canadian History / War History<br>year=%{x}<br>sum of Cold War=%{y}\", \"legendgroup\": \"theme=Canadian History / War History\", \"marker\": {\"color\": \"#FF6692\"}, \"name\": \"theme=Canadian History / War History\", \"offsetgroup\": \"theme=Canadian History / War History\", \"orientation\": \"v\", \"showlegend\": true, \"type\": \"histogram\", \"x\": [2001], \"xaxis\": \"x\", \"y\": [0], \"yaxis\": \"y\"}, {\"alignmentgroup\": \"True\", \"bingroup\": \"x\", \"histfunc\": \"sum\", \"hoverlabel\": {\"namelength\": 0}, \"hovertemplate\": \"theme=Conflict between states<br>year=%{x}<br>sum of Cold War=%{y}\", \"legendgroup\": \"theme=Conflict between states\", \"marker\": {\"color\": \"#B6E880\"}, \"name\": \"theme=Conflict between states\", \"offsetgroup\": \"theme=Conflict between states\", \"orientation\": \"v\", \"showlegend\": true, \"type\": \"histogram\", \"x\": [2001, 2008, 2012, 2014, 2016, 2018], \"xaxis\": \"x\", \"y\": [0, 0, 0, 0, 1, 0], \"yaxis\": \"y\"}, {\"alignmentgroup\": \"True\", \"bingroup\": \"x\", \"histfunc\": \"sum\", \"hoverlabel\": {\"namelength\": 0}, \"hovertemplate\": \"theme=Ethics of War<br>year=%{x}<br>sum of Cold War=%{y}\", \"legendgroup\": \"theme=Ethics of War\", \"marker\": {\"color\": \"#FF97FF\"}, \"name\": \"theme=Ethics of War\", \"offsetgroup\": \"theme=Ethics of War\", \"orientation\": \"v\", \"showlegend\": true, \"type\": \"histogram\", \"x\": [2001], \"xaxis\": \"x\", \"y\": [0], \"yaxis\": \"y\"}, {\"alignmentgroup\": \"True\", \"bingroup\": \"x\", \"histfunc\": \"sum\", \"hoverlabel\": {\"namelength\": 0}, \"hovertemplate\": \"theme=IR Scholarship<br>year=%{x}<br>sum of Cold War=%{y}\", \"legendgroup\": \"theme=IR Scholarship\", \"marker\": {\"color\": \"#FECB52\"}, \"name\": \"theme=IR Scholarship\", \"offsetgroup\": \"theme=IR Scholarship\", \"orientation\": \"v\", \"showlegend\": true, \"type\": \"histogram\", \"x\": [2001, 2002, 2004, 2005, 2007, 2008, 2009, 2010, 2011, 2012, 2013, 2014, 2015, 2017, 2018], \"xaxis\": \"x\", \"y\": [1, 0, 1, 0, 0, 0, 0, 0, 1, 0, 0, 1, 0, 0, 0], \"yaxis\": \"y\"}, {\"alignmentgroup\": \"True\", \"bingroup\": \"x\", \"histfunc\": \"sum\", \"hoverlabel\": {\"namelength\": 0}, \"hovertemplate\": \"theme=Military History<br>year=%{x}<br>sum of Cold War=%{y}\", \"legendgroup\": \"theme=Military History\", \"marker\": {\"color\": \"#636efa\"}, \"name\": \"theme=Military History\", \"offsetgroup\": \"theme=Military History\", \"orientation\": \"v\", \"showlegend\": true, \"type\": \"histogram\", \"x\": [2001, 2002, 2003, 2004, 2005, 2008, 2009, 2010, 2012, 2013, 2015, 2016, 2017, 2018], \"xaxis\": \"x\", \"y\": [1, 0, 0, 1, 0, 0, 0, 0, 0, 0, 0, 0, 0, 0], \"yaxis\": \"y\"}, {\"alignmentgroup\": \"True\", \"bingroup\": \"x\", \"histfunc\": \"sum\", \"hoverlabel\": {\"namelength\": 0}, \"hovertemplate\": \"theme=Peace Process<br>year=%{x}<br>sum of Cold War=%{y}\", \"legendgroup\": \"theme=Peace Process\", \"marker\": {\"color\": \"#EF553B\"}, \"name\": \"theme=Peace Process\", \"offsetgroup\": \"theme=Peace Process\", \"orientation\": \"v\", \"showlegend\": true, \"type\": \"histogram\", \"x\": [2001], \"xaxis\": \"x\", \"y\": [0], \"yaxis\": \"y\"}, {\"alignmentgroup\": \"True\", \"bingroup\": \"x\", \"histfunc\": \"sum\", \"hoverlabel\": {\"namelength\": 0}, \"hovertemplate\": \"theme=Civil War<br>year=%{x}<br>sum of Cold War=%{y}\", \"legendgroup\": \"theme=Civil War\", \"marker\": {\"color\": \"#00cc96\"}, \"name\": \"theme=Civil War\", \"offsetgroup\": \"theme=Civil War\", \"orientation\": \"v\", \"showlegend\": true, \"type\": \"histogram\", \"x\": [2002], \"xaxis\": \"x\", \"y\": [0], \"yaxis\": \"y\"}, {\"alignmentgroup\": \"True\", \"bingroup\": \"x\", \"histfunc\": \"sum\", \"hoverlabel\": {\"namelength\": 0}, \"hovertemplate\": \"theme=Military Technology<br>year=%{x}<br>sum of Cold War=%{y}\", \"legendgroup\": \"theme=Military Technology\", \"marker\": {\"color\": \"#ab63fa\"}, \"name\": \"theme=Military Technology\", \"offsetgroup\": \"theme=Military Technology\", \"orientation\": \"v\", \"showlegend\": true, \"type\": \"histogram\", \"x\": [2002], \"xaxis\": \"x\", \"y\": [1], \"yaxis\": \"y\"}, {\"alignmentgroup\": \"True\", \"bingroup\": \"x\", \"histfunc\": \"sum\", \"hoverlabel\": {\"namelength\": 0}, \"hovertemplate\": \"theme=Nuclear Weapons<br>year=%{x}<br>sum of Cold War=%{y}\", \"legendgroup\": \"theme=Nuclear Weapons\", \"marker\": {\"color\": \"#FFA15A\"}, \"name\": \"theme=Nuclear Weapons\", \"offsetgroup\": \"theme=Nuclear Weapons\", \"orientation\": \"v\", \"showlegend\": true, \"type\": \"histogram\", \"x\": [2002, 2009, 2014, 2015, 2018], \"xaxis\": \"x\", \"y\": [0, 0, 0, 0, 0], \"yaxis\": \"y\"}, {\"alignmentgroup\": \"True\", \"bingroup\": \"x\", \"histfunc\": \"sum\", \"hoverlabel\": {\"namelength\": 0}, \"hovertemplate\": \"theme=Vietnam War / Conflict Between States<br>year=%{x}<br>sum of Cold War=%{y}\", \"legendgroup\": \"theme=Vietnam War / Conflict Between States\", \"marker\": {\"color\": \"#19d3f3\"}, \"name\": \"theme=Vietnam War / Conflict Between States\", \"offsetgroup\": \"theme=Vietnam War / Conflict Between States\", \"orientation\": \"v\", \"showlegend\": true, \"type\": \"histogram\", \"x\": [2002], \"xaxis\": \"x\", \"y\": [1], \"yaxis\": \"y\"}, {\"alignmentgroup\": \"True\", \"bingroup\": \"x\", \"histfunc\": \"sum\", \"hoverlabel\": {\"namelength\": 0}, \"hovertemplate\": \"theme=Unconventional Warfare / Conflcit Between States<br>year=%{x}<br>sum of Cold War=%{y}\", \"legendgroup\": \"theme=Unconventional Warfare / Conflcit Between States\", \"marker\": {\"color\": \"#FF6692\"}, \"name\": \"theme=Unconventional Warfare / Conflcit Between States\", \"offsetgroup\": \"theme=Unconventional Warfare / Conflcit Between States\", \"orientation\": \"v\", \"showlegend\": true, \"type\": \"histogram\", \"x\": [2003], \"xaxis\": \"x\", \"y\": [0], \"yaxis\": \"y\"}, {\"alignmentgroup\": \"True\", \"bingroup\": \"x\", \"histfunc\": \"sum\", \"hoverlabel\": {\"namelength\": 0}, \"hovertemplate\": \"theme=Conflict Between states<br>year=%{x}<br>sum of Cold War=%{y}\", \"legendgroup\": \"theme=Conflict Between states\", \"marker\": {\"color\": \"#B6E880\"}, \"name\": \"theme=Conflict Between states\", \"offsetgroup\": \"theme=Conflict Between states\", \"orientation\": \"v\", \"showlegend\": true, \"type\": \"histogram\", \"x\": [2004], \"xaxis\": \"x\", \"y\": [0], \"yaxis\": \"y\"}, {\"alignmentgroup\": \"True\", \"bingroup\": \"x\", \"histfunc\": \"sum\", \"hoverlabel\": {\"namelength\": 0}, \"hovertemplate\": \"theme=ConflictBetween states<br>year=%{x}<br>sum of Cold War=%{y}\", \"legendgroup\": \"theme=ConflictBetween states\", \"marker\": {\"color\": \"#FF97FF\"}, \"name\": \"theme=ConflictBetween states\", \"offsetgroup\": \"theme=ConflictBetween states\", \"orientation\": \"v\", \"showlegend\": true, \"type\": \"histogram\", \"x\": [2004], \"xaxis\": \"x\", \"y\": [0], \"yaxis\": \"y\"}, {\"alignmentgroup\": \"True\", \"bingroup\": \"x\", \"histfunc\": \"sum\", \"hoverlabel\": {\"namelength\": 0}, \"hovertemplate\": \"theme=Domestic Policy<br>year=%{x}<br>sum of Cold War=%{y}\", \"legendgroup\": \"theme=Domestic Policy\", \"marker\": {\"color\": \"#FECB52\"}, \"name\": \"theme=Domestic Policy\", \"offsetgroup\": \"theme=Domestic Policy\", \"orientation\": \"v\", \"showlegend\": true, \"type\": \"histogram\", \"x\": [2005], \"xaxis\": \"x\", \"y\": [0], \"yaxis\": \"y\"}, {\"alignmentgroup\": \"True\", \"bingroup\": \"x\", \"histfunc\": \"sum\", \"hoverlabel\": {\"namelength\": 0}, \"hovertemplate\": \"theme=Miltary History<br>year=%{x}<br>sum of Cold War=%{y}\", \"legendgroup\": \"theme=Miltary History\", \"marker\": {\"color\": \"#636efa\"}, \"name\": \"theme=Miltary History\", \"offsetgroup\": \"theme=Miltary History\", \"orientation\": \"v\", \"showlegend\": true, \"type\": \"histogram\", \"x\": [2007], \"xaxis\": \"x\", \"y\": [1], \"yaxis\": \"y\"}, {\"alignmentgroup\": \"True\", \"bingroup\": \"x\", \"histfunc\": \"sum\", \"hoverlabel\": {\"namelength\": 0}, \"hovertemplate\": \"theme=Nonstate<br>year=%{x}<br>sum of Cold War=%{y}\", \"legendgroup\": \"theme=Nonstate\", \"marker\": {\"color\": \"#EF553B\"}, \"name\": \"theme=Nonstate\", \"offsetgroup\": \"theme=Nonstate\", \"orientation\": \"v\", \"showlegend\": true, \"type\": \"histogram\", \"x\": [2007, 2008, 2013], \"xaxis\": \"x\", \"y\": [0, 0, 0], \"yaxis\": \"y\"}, {\"alignmentgroup\": \"True\", \"bingroup\": \"x\", \"histfunc\": \"sum\", \"hoverlabel\": {\"namelength\": 0}, \"hovertemplate\": \"theme=Other<br>year=%{x}<br>sum of Cold War=%{y}\", \"legendgroup\": \"theme=Other\", \"marker\": {\"color\": \"#00cc96\"}, \"name\": \"theme=Other\", \"offsetgroup\": \"theme=Other\", \"orientation\": \"v\", \"showlegend\": true, \"type\": \"histogram\", \"x\": [2007, 2008, 2013], \"xaxis\": \"x\", \"y\": [1, 0, 0], \"yaxis\": \"y\"}, {\"alignmentgroup\": \"True\", \"bingroup\": \"x\", \"histfunc\": \"sum\", \"hoverlabel\": {\"namelength\": 0}, \"hovertemplate\": \"theme=ICS<br>year=%{x}<br>sum of Cold War=%{y}\", \"legendgroup\": \"theme=ICS\", \"marker\": {\"color\": \"#ab63fa\"}, \"name\": \"theme=ICS\", \"offsetgroup\": \"theme=ICS\", \"orientation\": \"v\", \"showlegend\": true, \"type\": \"histogram\", \"x\": [2009], \"xaxis\": \"x\", \"y\": [0], \"yaxis\": \"y\"}, {\"alignmentgroup\": \"True\", \"bingroup\": \"x\", \"histfunc\": \"sum\", \"hoverlabel\": {\"namelength\": 0}, \"hovertemplate\": \"theme=Non-state<br>year=%{x}<br>sum of Cold War=%{y}\", \"legendgroup\": \"theme=Non-state\", \"marker\": {\"color\": \"#FFA15A\"}, \"name\": \"theme=Non-state\", \"offsetgroup\": \"theme=Non-state\", \"orientation\": \"v\", \"showlegend\": true, \"type\": \"histogram\", \"x\": [2009, 2010, 2015, 2016], \"xaxis\": \"x\", \"y\": [0, 0, 0, 0], \"yaxis\": \"y\"}, {\"alignmentgroup\": \"True\", \"bingroup\": \"x\", \"histfunc\": \"sum\", \"hoverlabel\": {\"namelength\": 0}, \"hovertemplate\": \"theme=Cold War<br>year=%{x}<br>sum of Cold War=%{y}\", \"legendgroup\": \"theme=Cold War\", \"marker\": {\"color\": \"#19d3f3\"}, \"name\": \"theme=Cold War\", \"offsetgroup\": \"theme=Cold War\", \"orientation\": \"v\", \"showlegend\": true, \"type\": \"histogram\", \"x\": [2010, 2017, 2018], \"xaxis\": \"x\", \"y\": [1, 1, 1], \"yaxis\": \"y\"}, {\"alignmentgroup\": \"True\", \"bingroup\": \"x\", \"histfunc\": \"sum\", \"hoverlabel\": {\"namelength\": 0}, \"hovertemplate\": \"theme=Terrorism<br>year=%{x}<br>sum of Cold War=%{y}\", \"legendgroup\": \"theme=Terrorism\", \"marker\": {\"color\": \"#FF6692\"}, \"name\": \"theme=Terrorism\", \"offsetgroup\": \"theme=Terrorism\", \"orientation\": \"v\", \"showlegend\": true, \"type\": \"histogram\", \"x\": [2010], \"xaxis\": \"x\", \"y\": [0], \"yaxis\": \"y\"}, {\"alignmentgroup\": \"True\", \"bingroup\": \"x\", \"histfunc\": \"sum\", \"hoverlabel\": {\"namelength\": 0}, \"hovertemplate\": \"theme=Non-State<br>year=%{x}<br>sum of Cold War=%{y}\", \"legendgroup\": \"theme=Non-State\", \"marker\": {\"color\": \"#B6E880\"}, \"name\": \"theme=Non-State\", \"offsetgroup\": \"theme=Non-State\", \"orientation\": \"v\", \"showlegend\": true, \"type\": \"histogram\", \"x\": [2011], \"xaxis\": \"x\", \"y\": [0], \"yaxis\": \"y\"}, {\"alignmentgroup\": \"True\", \"bingroup\": \"x\", \"histfunc\": \"sum\", \"hoverlabel\": {\"namelength\": 0}, \"hovertemplate\": \"theme=IR Scholarship / Nuclear Weapons<br>year=%{x}<br>sum of Cold War=%{y}\", \"legendgroup\": \"theme=IR Scholarship / Nuclear Weapons\", \"marker\": {\"color\": \"#FF97FF\"}, \"name\": \"theme=IR Scholarship / Nuclear Weapons\", \"offsetgroup\": \"theme=IR Scholarship / Nuclear Weapons\", \"orientation\": \"v\", \"showlegend\": true, \"type\": \"histogram\", \"x\": [2012], \"xaxis\": \"x\", \"y\": [0], \"yaxis\": \"y\"}, {\"alignmentgroup\": \"True\", \"bingroup\": \"x\", \"histfunc\": \"sum\", \"hoverlabel\": {\"namelength\": 0}, \"hovertemplate\": \"theme=Civil-military<br>year=%{x}<br>sum of Cold War=%{y}\", \"legendgroup\": \"theme=Civil-military\", \"marker\": {\"color\": \"#FECB52\"}, \"name\": \"theme=Civil-military\", \"offsetgroup\": \"theme=Civil-military\", \"orientation\": \"v\", \"showlegend\": true, \"type\": \"histogram\", \"x\": [2014], \"xaxis\": \"x\", \"y\": [0], \"yaxis\": \"y\"}, {\"alignmentgroup\": \"True\", \"bingroup\": \"x\", \"histfunc\": \"sum\", \"hoverlabel\": {\"namelength\": 0}, \"hovertemplate\": \"theme=Soviet Union<br>year=%{x}<br>sum of Cold War=%{y}\", \"legendgroup\": \"theme=Soviet Union\", \"marker\": {\"color\": \"#636efa\"}, \"name\": \"theme=Soviet Union\", \"offsetgroup\": \"theme=Soviet Union\", \"orientation\": \"v\", \"showlegend\": true, \"type\": \"histogram\", \"x\": [2015], \"xaxis\": \"x\", \"y\": [1], \"yaxis\": \"y\"}, {\"alignmentgroup\": \"True\", \"bingroup\": \"x\", \"histfunc\": \"sum\", \"hoverlabel\": {\"namelength\": 0}, \"hovertemplate\": \"theme=Civ-Mil<br>year=%{x}<br>sum of Cold War=%{y}\", \"legendgroup\": \"theme=Civ-Mil\", \"marker\": {\"color\": \"#EF553B\"}, \"name\": \"theme=Civ-Mil\", \"offsetgroup\": \"theme=Civ-Mil\", \"orientation\": \"v\", \"showlegend\": true, \"type\": \"histogram\", \"x\": [2016], \"xaxis\": \"x\", \"y\": [0], \"yaxis\": \"y\"}],\n",
       "                        {\"barmode\": \"relative\", \"height\": 600, \"legend\": {\"tracegroupgap\": 0}, \"margin\": {\"t\": 60}, \"template\": {\"data\": {\"bar\": [{\"error_x\": {\"color\": \"#2a3f5f\"}, \"error_y\": {\"color\": \"#2a3f5f\"}, \"marker\": {\"line\": {\"color\": \"#E5ECF6\", \"width\": 0.5}}, \"type\": \"bar\"}], \"barpolar\": [{\"marker\": {\"line\": {\"color\": \"#E5ECF6\", \"width\": 0.5}}, \"type\": \"barpolar\"}], \"carpet\": [{\"aaxis\": {\"endlinecolor\": \"#2a3f5f\", \"gridcolor\": \"white\", \"linecolor\": \"white\", \"minorgridcolor\": \"white\", \"startlinecolor\": \"#2a3f5f\"}, \"baxis\": {\"endlinecolor\": \"#2a3f5f\", \"gridcolor\": \"white\", \"linecolor\": \"white\", \"minorgridcolor\": \"white\", \"startlinecolor\": \"#2a3f5f\"}, \"type\": \"carpet\"}], \"choropleth\": [{\"colorbar\": {\"outlinewidth\": 0, \"ticks\": \"\"}, \"type\": \"choropleth\"}], \"contour\": [{\"colorbar\": {\"outlinewidth\": 0, \"ticks\": \"\"}, \"colorscale\": [[0.0, \"#0d0887\"], [0.1111111111111111, \"#46039f\"], [0.2222222222222222, \"#7201a8\"], [0.3333333333333333, \"#9c179e\"], [0.4444444444444444, \"#bd3786\"], [0.5555555555555556, \"#d8576b\"], [0.6666666666666666, \"#ed7953\"], [0.7777777777777778, \"#fb9f3a\"], [0.8888888888888888, \"#fdca26\"], [1.0, \"#f0f921\"]], \"type\": \"contour\"}], \"contourcarpet\": [{\"colorbar\": {\"outlinewidth\": 0, \"ticks\": \"\"}, \"type\": \"contourcarpet\"}], \"heatmap\": [{\"colorbar\": {\"outlinewidth\": 0, \"ticks\": \"\"}, \"colorscale\": [[0.0, \"#0d0887\"], [0.1111111111111111, \"#46039f\"], [0.2222222222222222, \"#7201a8\"], [0.3333333333333333, \"#9c179e\"], [0.4444444444444444, \"#bd3786\"], [0.5555555555555556, \"#d8576b\"], [0.6666666666666666, \"#ed7953\"], [0.7777777777777778, \"#fb9f3a\"], [0.8888888888888888, \"#fdca26\"], [1.0, \"#f0f921\"]], \"type\": \"heatmap\"}], \"heatmapgl\": [{\"colorbar\": {\"outlinewidth\": 0, \"ticks\": \"\"}, \"colorscale\": [[0.0, \"#0d0887\"], [0.1111111111111111, \"#46039f\"], [0.2222222222222222, \"#7201a8\"], [0.3333333333333333, \"#9c179e\"], [0.4444444444444444, \"#bd3786\"], [0.5555555555555556, \"#d8576b\"], [0.6666666666666666, \"#ed7953\"], [0.7777777777777778, \"#fb9f3a\"], [0.8888888888888888, \"#fdca26\"], [1.0, \"#f0f921\"]], \"type\": \"heatmapgl\"}], \"histogram\": [{\"marker\": {\"colorbar\": {\"outlinewidth\": 0, \"ticks\": \"\"}}, \"type\": \"histogram\"}], \"histogram2d\": [{\"colorbar\": {\"outlinewidth\": 0, \"ticks\": \"\"}, \"colorscale\": [[0.0, \"#0d0887\"], [0.1111111111111111, \"#46039f\"], [0.2222222222222222, \"#7201a8\"], [0.3333333333333333, \"#9c179e\"], [0.4444444444444444, \"#bd3786\"], [0.5555555555555556, \"#d8576b\"], [0.6666666666666666, \"#ed7953\"], [0.7777777777777778, \"#fb9f3a\"], [0.8888888888888888, \"#fdca26\"], [1.0, \"#f0f921\"]], \"type\": \"histogram2d\"}], \"histogram2dcontour\": [{\"colorbar\": {\"outlinewidth\": 0, \"ticks\": \"\"}, \"colorscale\": [[0.0, \"#0d0887\"], [0.1111111111111111, \"#46039f\"], [0.2222222222222222, \"#7201a8\"], [0.3333333333333333, \"#9c179e\"], [0.4444444444444444, \"#bd3786\"], [0.5555555555555556, \"#d8576b\"], [0.6666666666666666, \"#ed7953\"], [0.7777777777777778, \"#fb9f3a\"], [0.8888888888888888, \"#fdca26\"], [1.0, \"#f0f921\"]], \"type\": \"histogram2dcontour\"}], \"mesh3d\": [{\"colorbar\": {\"outlinewidth\": 0, \"ticks\": \"\"}, \"type\": \"mesh3d\"}], \"parcoords\": [{\"line\": {\"colorbar\": {\"outlinewidth\": 0, \"ticks\": \"\"}}, \"type\": \"parcoords\"}], \"scatter\": [{\"marker\": {\"colorbar\": {\"outlinewidth\": 0, \"ticks\": \"\"}}, \"type\": \"scatter\"}], \"scatter3d\": [{\"line\": {\"colorbar\": {\"outlinewidth\": 0, \"ticks\": \"\"}}, \"marker\": {\"colorbar\": {\"outlinewidth\": 0, \"ticks\": \"\"}}, \"type\": \"scatter3d\"}], \"scattercarpet\": [{\"marker\": {\"colorbar\": {\"outlinewidth\": 0, \"ticks\": \"\"}}, \"type\": \"scattercarpet\"}], \"scattergeo\": [{\"marker\": {\"colorbar\": {\"outlinewidth\": 0, \"ticks\": \"\"}}, \"type\": \"scattergeo\"}], \"scattergl\": [{\"marker\": {\"colorbar\": {\"outlinewidth\": 0, \"ticks\": \"\"}}, \"type\": \"scattergl\"}], \"scattermapbox\": [{\"marker\": {\"colorbar\": {\"outlinewidth\": 0, \"ticks\": \"\"}}, \"type\": \"scattermapbox\"}], \"scatterpolar\": [{\"marker\": {\"colorbar\": {\"outlinewidth\": 0, \"ticks\": \"\"}}, \"type\": \"scatterpolar\"}], \"scatterpolargl\": [{\"marker\": {\"colorbar\": {\"outlinewidth\": 0, \"ticks\": \"\"}}, \"type\": \"scatterpolargl\"}], \"scatterternary\": [{\"marker\": {\"colorbar\": {\"outlinewidth\": 0, \"ticks\": \"\"}}, \"type\": \"scatterternary\"}], \"surface\": [{\"colorbar\": {\"outlinewidth\": 0, \"ticks\": \"\"}, \"colorscale\": [[0.0, \"#0d0887\"], [0.1111111111111111, \"#46039f\"], [0.2222222222222222, \"#7201a8\"], [0.3333333333333333, \"#9c179e\"], [0.4444444444444444, \"#bd3786\"], [0.5555555555555556, \"#d8576b\"], [0.6666666666666666, \"#ed7953\"], [0.7777777777777778, \"#fb9f3a\"], [0.8888888888888888, \"#fdca26\"], [1.0, \"#f0f921\"]], \"type\": \"surface\"}], \"table\": [{\"cells\": {\"fill\": {\"color\": \"#EBF0F8\"}, \"line\": {\"color\": \"white\"}}, \"header\": {\"fill\": {\"color\": \"#C8D4E3\"}, \"line\": {\"color\": \"white\"}}, \"type\": \"table\"}]}, \"layout\": {\"annotationdefaults\": {\"arrowcolor\": \"#2a3f5f\", \"arrowhead\": 0, \"arrowwidth\": 1}, \"colorscale\": {\"diverging\": [[0, \"#8e0152\"], [0.1, \"#c51b7d\"], [0.2, \"#de77ae\"], [0.3, \"#f1b6da\"], [0.4, \"#fde0ef\"], [0.5, \"#f7f7f7\"], [0.6, \"#e6f5d0\"], [0.7, \"#b8e186\"], [0.8, \"#7fbc41\"], [0.9, \"#4d9221\"], [1, \"#276419\"]], \"sequential\": [[0.0, \"#0d0887\"], [0.1111111111111111, \"#46039f\"], [0.2222222222222222, \"#7201a8\"], [0.3333333333333333, \"#9c179e\"], [0.4444444444444444, \"#bd3786\"], [0.5555555555555556, \"#d8576b\"], [0.6666666666666666, \"#ed7953\"], [0.7777777777777778, \"#fb9f3a\"], [0.8888888888888888, \"#fdca26\"], [1.0, \"#f0f921\"]], \"sequentialminus\": [[0.0, \"#0d0887\"], [0.1111111111111111, \"#46039f\"], [0.2222222222222222, \"#7201a8\"], [0.3333333333333333, \"#9c179e\"], [0.4444444444444444, \"#bd3786\"], [0.5555555555555556, \"#d8576b\"], [0.6666666666666666, \"#ed7953\"], [0.7777777777777778, \"#fb9f3a\"], [0.8888888888888888, \"#fdca26\"], [1.0, \"#f0f921\"]]}, \"colorway\": [\"#636efa\", \"#EF553B\", \"#00cc96\", \"#ab63fa\", \"#FFA15A\", \"#19d3f3\", \"#FF6692\", \"#B6E880\", \"#FF97FF\", \"#FECB52\"], \"font\": {\"color\": \"#2a3f5f\"}, \"geo\": {\"bgcolor\": \"white\", \"lakecolor\": \"white\", \"landcolor\": \"#E5ECF6\", \"showlakes\": true, \"showland\": true, \"subunitcolor\": \"white\"}, \"hoverlabel\": {\"align\": \"left\"}, \"hovermode\": \"closest\", \"mapbox\": {\"style\": \"light\"}, \"paper_bgcolor\": \"white\", \"plot_bgcolor\": \"#E5ECF6\", \"polar\": {\"angularaxis\": {\"gridcolor\": \"white\", \"linecolor\": \"white\", \"ticks\": \"\"}, \"bgcolor\": \"#E5ECF6\", \"radialaxis\": {\"gridcolor\": \"white\", \"linecolor\": \"white\", \"ticks\": \"\"}}, \"scene\": {\"xaxis\": {\"backgroundcolor\": \"#E5ECF6\", \"gridcolor\": \"white\", \"gridwidth\": 2, \"linecolor\": \"white\", \"showbackground\": true, \"ticks\": \"\", \"zerolinecolor\": \"white\"}, \"yaxis\": {\"backgroundcolor\": \"#E5ECF6\", \"gridcolor\": \"white\", \"gridwidth\": 2, \"linecolor\": \"white\", \"showbackground\": true, \"ticks\": \"\", \"zerolinecolor\": \"white\"}, \"zaxis\": {\"backgroundcolor\": \"#E5ECF6\", \"gridcolor\": \"white\", \"gridwidth\": 2, \"linecolor\": \"white\", \"showbackground\": true, \"ticks\": \"\", \"zerolinecolor\": \"white\"}}, \"shapedefaults\": {\"line\": {\"color\": \"#2a3f5f\"}}, \"ternary\": {\"aaxis\": {\"gridcolor\": \"white\", \"linecolor\": \"white\", \"ticks\": \"\"}, \"baxis\": {\"gridcolor\": \"white\", \"linecolor\": \"white\", \"ticks\": \"\"}, \"bgcolor\": \"#E5ECF6\", \"caxis\": {\"gridcolor\": \"white\", \"linecolor\": \"white\", \"ticks\": \"\"}}, \"title\": {\"x\": 0.05}, \"xaxis\": {\"automargin\": true, \"gridcolor\": \"white\", \"linecolor\": \"white\", \"ticks\": \"\", \"zerolinecolor\": \"white\", \"zerolinewidth\": 2}, \"yaxis\": {\"automargin\": true, \"gridcolor\": \"white\", \"linecolor\": \"white\", \"ticks\": \"\", \"zerolinecolor\": \"white\", \"zerolinewidth\": 2}}}, \"xaxis\": {\"anchor\": \"y\", \"domain\": [0.0, 0.98], \"title\": {\"text\": \"year\"}}, \"yaxis\": {\"anchor\": \"x\", \"domain\": [0.0, 1.0], \"title\": {\"text\": \"sum of Cold War\"}}},\n",
       "                        {\"responsive\": true}\n",
       "                    ).then(function(){\n",
       "                            \n",
       "var gd = document.getElementById('4bfdfe91-1cdd-4d09-bf8e-a863b446215c');\n",
       "var x = new MutationObserver(function (mutations, observer) {{\n",
       "        var display = window.getComputedStyle(gd).display;\n",
       "        if (!display || display === 'none') {{\n",
       "            console.log([gd, 'removed!']);\n",
       "            Plotly.purge(gd);\n",
       "            observer.disconnect();\n",
       "        }}\n",
       "}});\n",
       "\n",
       "// Listen for the removal of the full notebook cells\n",
       "var notebookContainer = gd.closest('#notebook-container');\n",
       "if (notebookContainer) {{\n",
       "    x.observe(notebookContainer, {childList: true});\n",
       "}}\n",
       "\n",
       "// Listen for the clearing of the current output cell\n",
       "var outputEl = gd.closest('.output');\n",
       "if (outputEl) {{\n",
       "    x.observe(outputEl, {childList: true});\n",
       "}}\n",
       "\n",
       "                        })\n",
       "                };\n",
       "                });\n",
       "            </script>\n",
       "        </div>"
      ]
     },
     "metadata": {},
     "output_type": "display_data"
    }
   ],
   "source": [
    "import plotly_express as ple\n",
    "ple.histogram(df.sort_values('year').groupby(['year','theme'])['Cold War'].sum().reset_index(), x=\"year\", y=\"Cold War\", histfunc=\"sum\", color=\"theme\")"
   ]
  },
  {
   "cell_type": "code",
   "execution_count": 17,
   "metadata": {
    "ExecuteTime": {
     "end_time": "2019-09-08T22:50:34.510420Z",
     "start_time": "2019-09-08T22:50:34.470272Z"
    }
   },
   "outputs": [
    {
     "ename": "AttributeError",
     "evalue": "module 'plotly_express' has no attribute 'lidifferences'",
     "output_type": "error",
     "traceback": [
      "\u001b[0;31m---------------------------------------------------------------------------\u001b[0m",
      "\u001b[0;31mAttributeError\u001b[0m                            Traceback (most recent call last)",
      "\u001b[0;32m<ipython-input-17-9cab98c4af6d>\u001b[0m in \u001b[0;36m<module>\u001b[0;34m\u001b[0m\n\u001b[0;32m----> 1\u001b[0;31m ple.lidifferences(dfm_regional.sort_values('year').groupby(['year','theme'])['Cold War'].sum().reset_index(),\n\u001b[0m\u001b[1;32m      2\u001b[0m          \u001b[0mx\u001b[0m\u001b[0;34m=\u001b[0m\u001b[0;34m'year'\u001b[0m\u001b[0;34m,\u001b[0m\u001b[0;34m\u001b[0m\u001b[0;34m\u001b[0m\u001b[0m\n\u001b[1;32m      3\u001b[0m          \u001b[0my\u001b[0m\u001b[0;34m=\u001b[0m\u001b[0;34m'Cold War'\u001b[0m\u001b[0;34m,\u001b[0m\u001b[0;34m\u001b[0m\u001b[0;34m\u001b[0m\u001b[0m\n\u001b[1;32m      4\u001b[0m          \u001b[0mline_group\u001b[0m\u001b[0;34m=\u001b[0m\u001b[0;34m'theme'\u001b[0m\u001b[0;34m,\u001b[0m\u001b[0;34m\u001b[0m\u001b[0;34m\u001b[0m\u001b[0m\n\u001b[1;32m      5\u001b[0m          \u001b[0mcolor\u001b[0m\u001b[0;34m=\u001b[0m\u001b[0;34m'theme'\u001b[0m\u001b[0;34m\u001b[0m\u001b[0;34m\u001b[0m\u001b[0m\n",
      "\u001b[0;31mAttributeError\u001b[0m: module 'plotly_express' has no attribute 'lidifferences'"
     ]
    }
   ],
   "source": [
    "ple.lidifferences(dfm_regional.sort_values('year').groupby(['year','theme'])['Cold War'].sum().reset_index(),\n",
    "         x='year',\n",
    "         y='Cold War',\n",
    "         line_group='theme',\n",
    "         color='theme'\n",
    "        )"
   ]
  },
  {
   "cell_type": "code",
   "execution_count": 3,
   "metadata": {
    "ExecuteTime": {
     "end_time": "2019-09-08T22:47:12.226144Z",
     "start_time": "2019-09-08T22:47:11.596150Z"
    }
   },
   "outputs": [
    {
     "data": {
      "image/png": "[encoded data removed]",
      "text/plain": [
       "<Figure size 432x288 with 1 Axes>"
      ]
     },
     "metadata": {
      "needs_background": "dark"
     },
     "output_type": "display_data"
    },
    {
     "data": {
      "text/plain": [
       "<Figure size 432x288 with 0 Axes>"
      ]
     },
     "metadata": {},
     "output_type": "display_data"
    }
   ],
   "source": [
    "# Create the crosstab DataFrame\n",
    "pd_crosstab = pd.crosstab(df[\"theme\"], df[\"year\"])\n",
    "\n",
    "# Plot a heatmap of the table with no color bar and using the BuGn palette\n",
    "sns.heatmap(pd_crosstab, cbar=False, cmap=\"GnBu\", linewidths=0.3)\n",
    "\n",
    "# Rotate tick marks for visibility\n",
    "plt.yticks(rotation=0)\n",
    "plt.xticks(rotation=90)\n",
    "\n",
    "plt.tight_layout()\n",
    "#plt.savefig('./img/theme_heat_1.png', bbox_inches='tight', dpi=500)\n",
    "\n",
    "\n",
    "#Show the plot\n",
    "plt.show()\n",
    "plt.clf()"
   ]
  },
  {
   "cell_type": "code",
   "execution_count": 4,
   "metadata": {
    "ExecuteTime": {
     "end_time": "2019-09-08T22:47:13.340570Z",
     "start_time": "2019-09-08T22:47:12.229412Z"
    }
   },
   "outputs": [
    {
     "data": {
      "text/plain": [
       "<seaborn.matrix.ClusterGrid at 0x7f7e577ff5c0>"
      ]
     },
     "execution_count": 4,
     "metadata": {},
     "output_type": "execute_result"
    },
    {
     "data": {
      "image/png": "[encoded data removed]",
      "text/plain": [
       "<Figure size 720x720 with 4 Axes>"
      ]
     },
     "metadata": {
      "needs_background": "dark"
     },
     "output_type": "display_data"
    }
   ],
   "source": [
    "sns.clustermap(pd_crosstab, cmap='Greens', robust=True)\n",
    "\n",
    "# plot using a color palette\n",
    "#sns.heatmap(df, cmap=\"YlGnBu\")\n",
    "#sns.heatmap(df, cmap=\"Blues\")\n",
    "#sns.heatmap(df, cmap=\"BuPu\")\n",
    "#sns.heatmap(df, cmap=\"Greens\")"
   ]
  },
  {
   "cell_type": "code",
   "execution_count": null,
   "metadata": {},
   "outputs": [],
   "source": []
  },
  {
   "cell_type": "code",
   "execution_count": 5,
   "metadata": {
    "ExecuteTime": {
     "end_time": "2019-09-08T22:47:14.759666Z",
     "start_time": "2019-09-08T22:47:13.342606Z"
    }
   },
   "outputs": [
    {
     "data": {
      "image/png": "[encoded data removed]",
      "text/plain": [
       "<Figure size 720x720 with 4 Axes>"
      ]
     },
     "metadata": {
      "needs_background": "dark"
     },
     "output_type": "display_data"
    }
   ],
   "source": [
    "# Import seaborn library\n",
    "import seaborn as sns\n",
    "\n",
    "# Get correlation matrix of the meat DataFrame\n",
    "corr_meat = df.corr(method='pearson')\n",
    "\n",
    "# Customize the heatmap of the corr_meat correlation matrix and rotate the x-axis labels\n",
    "fig = sns.clustermap(pd_crosstab,\n",
    "                     row_cluster=True,\n",
    "                     col_cluster=True,\n",
    "                     figsize=(10, 10))\n",
    "\n",
    "plt.setp(fig.ax_heatmap.xaxis.get_majorticklabels(), rotation=90)\n",
    "plt.setp(fig.ax_heatmap.yaxis.get_majorticklabels(), rotation=0)\n",
    "plt.show()"
   ]
  },
  {
   "cell_type": "code",
   "execution_count": 6,
   "metadata": {
    "ExecuteTime": {
     "end_time": "2019-09-08T22:47:16.201731Z",
     "start_time": "2019-09-08T22:47:14.762795Z"
    }
   },
   "outputs": [
    {
     "data": {
      "image/png": "[encoded data removed]",
      "text/plain": [
       "<Figure size 720x720 with 4 Axes>"
      ]
     },
     "metadata": {
      "needs_background": "dark"
     },
     "output_type": "display_data"
    }
   ],
   "source": [
    "data_normalized = pd_crosstab\n",
    "\n",
    "# Standardize the mean and variance within a stat, so different stats can be comparable\n",
    "# (This is the same as changing all the columns to Z-scores)\n",
    "data_normalized = (data_normalized - data_normalized.mean())/data_normalized.var()\n",
    "\n",
    "# Normalize these values to range from -1 to 1\n",
    "data_normalized = (data_normalized)/(data_normalized.max() - data_normalized.min())\n",
    "\n",
    "data_normalized = data_normalized.T\n",
    "\n",
    "# Can use a semicolon after the command to suppress output of the row_dendrogram and col_dendrogram.\n",
    "sns.clustermap(data_normalized, cmap='Blues');"
   ]
  },
  {
   "cell_type": "code",
   "execution_count": 7,
   "metadata": {
    "ExecuteTime": {
     "end_time": "2019-09-08T22:47:17.674718Z",
     "start_time": "2019-09-08T22:47:16.205804Z"
    }
   },
   "outputs": [
    {
     "data": {
      "image/png": "[encoded data removed]",
      "text/plain": [
       "<Figure size 720x720 with 4 Axes>"
      ]
     },
     "metadata": {
      "needs_background": "dark"
     },
     "output_type": "display_data"
    }
   ],
   "source": [
    "data_normalized = pd_crosstab\n",
    "\n",
    "# Standardize the mean and variance within a stat, so different stats can be comparable\n",
    "# (This is the same as changing all the columns to Z-scores)\n",
    "data_normalized = (data_normalized - data_normalized.mean())/data_normalized.var()\n",
    "\n",
    "# Normalize these values to range from -1 to 1\n",
    "data_normalized = (data_normalized)/(data_normalized.max() - data_normalized.min())\n",
    "\n",
    "#data_normalized = data_normalized.T\n",
    "\n",
    "# Can use a semicolon after the command to suppress output of the row_dendrogram and col_dendrogram.\n",
    "sns.clustermap(data_normalized, cmap='BuPu');"
   ]
  },
  {
   "cell_type": "code",
   "execution_count": 8,
   "metadata": {
    "ExecuteTime": {
     "end_time": "2019-09-08T22:47:19.378174Z",
     "start_time": "2019-09-08T22:47:17.678084Z"
    }
   },
   "outputs": [
    {
     "data": {
      "image/png": "[encoded data removed]",
      "text/plain": [
       "<Figure size 720x720 with 4 Axes>"
      ]
     },
     "metadata": {
      "needs_background": "dark"
     },
     "output_type": "display_data"
    }
   ],
   "source": [
    "import matplotlib.pyplot as plt\n",
    "sns.clustermap(data_normalized);\n",
    "fig = plt.gcf()\n",
    "fig.savefig('clusteredheatmap_bbox_tight.png', bbox_inches='tight')"
   ]
  },
  {
   "cell_type": "code",
   "execution_count": 9,
   "metadata": {
    "ExecuteTime": {
     "end_time": "2019-09-08T22:47:19.445871Z",
     "start_time": "2019-09-08T22:47:19.385329Z"
    }
   },
   "outputs": [
    {
     "data": {
      "text/html": [
       "<div>\n",
       "<style scoped>\n",
       "    .dataframe tbody tr th:only-of-type {\n",
       "        vertical-align: middle;\n",
       "    }\n",
       "\n",
       "    .dataframe tbody tr th {\n",
       "        vertical-align: top;\n",
       "    }\n",
       "\n",
       "    .dataframe thead th {\n",
       "        text-align: right;\n",
       "    }\n",
       "</style>\n",
       "<table border=\"1\" class=\"dataframe\">\n",
       "  <thead>\n",
       "    <tr style=\"text-align: right;\">\n",
       "      <th></th>\n",
       "      <th>0</th>\n",
       "      <th>1</th>\n",
       "      <th>2</th>\n",
       "      <th>3</th>\n",
       "      <th>4</th>\n",
       "      <th>5</th>\n",
       "      <th>6</th>\n",
       "      <th>7</th>\n",
       "      <th>8</th>\n",
       "      <th>9</th>\n",
       "      <th>...</th>\n",
       "      <th>116</th>\n",
       "      <th>117</th>\n",
       "      <th>118</th>\n",
       "      <th>119</th>\n",
       "      <th>120</th>\n",
       "      <th>121</th>\n",
       "      <th>122</th>\n",
       "      <th>123</th>\n",
       "      <th>124</th>\n",
       "      <th>125</th>\n",
       "    </tr>\n",
       "  </thead>\n",
       "  <tbody>\n",
       "    <tr>\n",
       "      <th>Unnamed: 0</th>\n",
       "      <td>0</td>\n",
       "      <td>1</td>\n",
       "      <td>2</td>\n",
       "      <td>3</td>\n",
       "      <td>4</td>\n",
       "      <td>5</td>\n",
       "      <td>6</td>\n",
       "      <td>7</td>\n",
       "      <td>14</td>\n",
       "      <td>13</td>\n",
       "      <td>...</td>\n",
       "      <td>128</td>\n",
       "      <td>130</td>\n",
       "      <td>123</td>\n",
       "      <td>125</td>\n",
       "      <td>131</td>\n",
       "      <td>132</td>\n",
       "      <td>133</td>\n",
       "      <td>134</td>\n",
       "      <td>135</td>\n",
       "      <td>136</td>\n",
       "    </tr>\n",
       "    <tr>\n",
       "      <th>year</th>\n",
       "      <td>2000</td>\n",
       "      <td>2000</td>\n",
       "      <td>2000</td>\n",
       "      <td>2000</td>\n",
       "      <td>2000</td>\n",
       "      <td>2000</td>\n",
       "      <td>2000</td>\n",
       "      <td>2000</td>\n",
       "      <td>2001</td>\n",
       "      <td>2001</td>\n",
       "      <td>...</td>\n",
       "      <td>2017</td>\n",
       "      <td>2017</td>\n",
       "      <td>2017</td>\n",
       "      <td>2017</td>\n",
       "      <td>2018</td>\n",
       "      <td>2018</td>\n",
       "      <td>2018</td>\n",
       "      <td>2018</td>\n",
       "      <td>2018</td>\n",
       "      <td>2018</td>\n",
       "    </tr>\n",
       "    <tr>\n",
       "      <th>title</th>\n",
       "      <td>\"Institutions at the Domestic/International Ne...</td>\n",
       "      <td>Born to Lose and Doomed to Survive: State Deat...</td>\n",
       "      <td>The significance of “allegiance” in internatio...</td>\n",
       "      <td>The significance of “allegiance” in internatio...</td>\n",
       "      <td>Truth-Telling and Mythmaking in Post-Soviet Ru...</td>\n",
       "      <td>Building a Cape Fear Metropolis: Fort Bragg, F...</td>\n",
       "      <td>The Glories and the Sadness: Shaping the natio...</td>\n",
       "      <td>What leads longstanding adversaries to engage ...</td>\n",
       "      <td>A School for the Nation: Military  Institution...</td>\n",
       "      <td>The 'American Century' Army:  The Origins of t...</td>\n",
       "      <td>...</td>\n",
       "      <td>Fully Committed? Religiously Committed State P...</td>\n",
       "      <td>Straddling the Threshold of Two Worlds: Soldie...</td>\n",
       "      <td>U.S. Army’s Investigation and Adjudication of ...</td>\n",
       "      <td>Grand Strategic Crucibles: The Lasting Effects...</td>\n",
       "      <td>Trust in International Politics: The Role of L...</td>\n",
       "      <td>Planning for the Short Haul: Trade Among Belli...</td>\n",
       "      <td>Clinging to the Anti-Imperial Mantle: The Repu...</td>\n",
       "      <td>The New Navy's Pacific Wars:  Peripheral Confl...</td>\n",
       "      <td>Stop or I'll Shoot, Comply and I Won't: The Di...</td>\n",
       "      <td>Unexpected Humanitarians: Albania, the U.S. Mi...</td>\n",
       "    </tr>\n",
       "    <tr>\n",
       "      <th>abstract</th>\n",
       "      <td>Civil-military relations are frequently studie...</td>\n",
       "      <td>Under what conditions do states die, or exit t...</td>\n",
       "      <td>My dissertation employs original and secondary...</td>\n",
       "      <td>\\nThis study revises prevailing interpretation...</td>\n",
       "      <td>Can distorted and pernicious ideas about histo...</td>\n",
       "      <td>My dissertation examines the cultural and econ...</td>\n",
       "      <td>In my dissertation I compare the ways in whic...</td>\n",
       "      <td>This dissertation develops a socio-psychoanal...</td>\n",
       "      <td>Beginning in Europe in the latter half of the ...</td>\n",
       "      <td>This dissertation covers the period 1949-1959 ...</td>\n",
       "      <td>...</td>\n",
       "      <td>This dissertation argues that the higher the l...</td>\n",
       "      <td>This dissertation explores how American soldie...</td>\n",
       "      <td>This dissertation examines the U.S. Army’s res...</td>\n",
       "      <td>When and how do military interventions shape g...</td>\n",
       "      <td>In my dissertation, I focus on how leader rela...</td>\n",
       "      <td>In times of war, why do belligerents continue ...</td>\n",
       "      <td>My dissertation project, Clinging to the Anti-...</td>\n",
       "      <td>Using a transnational methodology and sources ...</td>\n",
       "      <td>There is a dilemma at the heart of coercion. S...</td>\n",
       "      <td>Using archives and oral history, this disserta...</td>\n",
       "    </tr>\n",
       "    <tr>\n",
       "      <th>theme</th>\n",
       "      <td>IR scholarship</td>\n",
       "      <td>IR scholarship</td>\n",
       "      <td>IR scholarship</td>\n",
       "      <td>Conflit Between States</td>\n",
       "      <td>Conflict Between States</td>\n",
       "      <td>Domestic Military History</td>\n",
       "      <td>Culture</td>\n",
       "      <td>Culture / Peace Process</td>\n",
       "      <td>Military History</td>\n",
       "      <td>Military History</td>\n",
       "      <td>...</td>\n",
       "      <td>IR Scholarship</td>\n",
       "      <td>Military History</td>\n",
       "      <td>Military History</td>\n",
       "      <td>IR Scholarship</td>\n",
       "      <td>Nuclear Weapons</td>\n",
       "      <td>Conflict between states</td>\n",
       "      <td>Cold War</td>\n",
       "      <td>Military History</td>\n",
       "      <td>IR Scholarship</td>\n",
       "      <td>Military History</td>\n",
       "    </tr>\n",
       "  </tbody>\n",
       "</table>\n",
       "<p>5 rows × 126 columns</p>\n",
       "</div>"
      ],
      "text/plain": [
       "                                                          0    \\\n",
       "Unnamed: 0                                                  0   \n",
       "year                                                     2000   \n",
       "title       \"Institutions at the Domestic/International Ne...   \n",
       "abstract    Civil-military relations are frequently studie...   \n",
       "theme                                          IR scholarship   \n",
       "\n",
       "                                                          1    \\\n",
       "Unnamed: 0                                                  1   \n",
       "year                                                     2000   \n",
       "title       Born to Lose and Doomed to Survive: State Deat...   \n",
       "abstract    Under what conditions do states die, or exit t...   \n",
       "theme                                          IR scholarship   \n",
       "\n",
       "                                                          2    \\\n",
       "Unnamed: 0                                                  2   \n",
       "year                                                     2000   \n",
       "title       The significance of “allegiance” in internatio...   \n",
       "abstract    My dissertation employs original and secondary...   \n",
       "theme                                          IR scholarship   \n",
       "\n",
       "                                                          3    \\\n",
       "Unnamed: 0                                                  3   \n",
       "year                                                     2000   \n",
       "title       The significance of “allegiance” in internatio...   \n",
       "abstract    \\nThis study revises prevailing interpretation...   \n",
       "theme                                  Conflit Between States   \n",
       "\n",
       "                                                          4    \\\n",
       "Unnamed: 0                                                  4   \n",
       "year                                                     2000   \n",
       "title       Truth-Telling and Mythmaking in Post-Soviet Ru...   \n",
       "abstract    Can distorted and pernicious ideas about histo...   \n",
       "theme                                 Conflict Between States   \n",
       "\n",
       "                                                          5    \\\n",
       "Unnamed: 0                                                  5   \n",
       "year                                                     2000   \n",
       "title       Building a Cape Fear Metropolis: Fort Bragg, F...   \n",
       "abstract    My dissertation examines the cultural and econ...   \n",
       "theme                               Domestic Military History   \n",
       "\n",
       "                                                          6    \\\n",
       "Unnamed: 0                                                  6   \n",
       "year                                                     2000   \n",
       "title       The Glories and the Sadness: Shaping the natio...   \n",
       "abstract     In my dissertation I compare the ways in whic...   \n",
       "theme                                                 Culture   \n",
       "\n",
       "                                                          7    \\\n",
       "Unnamed: 0                                                  7   \n",
       "year                                                     2000   \n",
       "title       What leads longstanding adversaries to engage ...   \n",
       "abstract     This dissertation develops a socio-psychoanal...   \n",
       "theme                                 Culture / Peace Process   \n",
       "\n",
       "                                                          8    \\\n",
       "Unnamed: 0                                                 14   \n",
       "year                                                     2001   \n",
       "title       A School for the Nation: Military  Institution...   \n",
       "abstract    Beginning in Europe in the latter half of the ...   \n",
       "theme                                        Military History   \n",
       "\n",
       "                                                          9    ...  \\\n",
       "Unnamed: 0                                                 13  ...   \n",
       "year                                                     2001  ...   \n",
       "title       The 'American Century' Army:  The Origins of t...  ...   \n",
       "abstract    This dissertation covers the period 1949-1959 ...  ...   \n",
       "theme                                        Military History  ...   \n",
       "\n",
       "                                                          116  \\\n",
       "Unnamed: 0                                                128   \n",
       "year                                                     2017   \n",
       "title       Fully Committed? Religiously Committed State P...   \n",
       "abstract    This dissertation argues that the higher the l...   \n",
       "theme                                          IR Scholarship   \n",
       "\n",
       "                                                          117  \\\n",
       "Unnamed: 0                                                130   \n",
       "year                                                     2017   \n",
       "title       Straddling the Threshold of Two Worlds: Soldie...   \n",
       "abstract    This dissertation explores how American soldie...   \n",
       "theme                                        Military History   \n",
       "\n",
       "                                                          118  \\\n",
       "Unnamed: 0                                                123   \n",
       "year                                                     2017   \n",
       "title       U.S. Army’s Investigation and Adjudication of ...   \n",
       "abstract    This dissertation examines the U.S. Army’s res...   \n",
       "theme                                        Military History   \n",
       "\n",
       "                                                          119  \\\n",
       "Unnamed: 0                                                125   \n",
       "year                                                     2017   \n",
       "title       Grand Strategic Crucibles: The Lasting Effects...   \n",
       "abstract    When and how do military interventions shape g...   \n",
       "theme                                          IR Scholarship   \n",
       "\n",
       "                                                          120  \\\n",
       "Unnamed: 0                                                131   \n",
       "year                                                     2018   \n",
       "title       Trust in International Politics: The Role of L...   \n",
       "abstract    In my dissertation, I focus on how leader rela...   \n",
       "theme                                         Nuclear Weapons   \n",
       "\n",
       "                                                          121  \\\n",
       "Unnamed: 0                                                132   \n",
       "year                                                     2018   \n",
       "title       Planning for the Short Haul: Trade Among Belli...   \n",
       "abstract    In times of war, why do belligerents continue ...   \n",
       "theme                                 Conflict between states   \n",
       "\n",
       "                                                          122  \\\n",
       "Unnamed: 0                                                133   \n",
       "year                                                     2018   \n",
       "title       Clinging to the Anti-Imperial Mantle: The Repu...   \n",
       "abstract    My dissertation project, Clinging to the Anti-...   \n",
       "theme                                                Cold War   \n",
       "\n",
       "                                                          123  \\\n",
       "Unnamed: 0                                                134   \n",
       "year                                                     2018   \n",
       "title       The New Navy's Pacific Wars:  Peripheral Confl...   \n",
       "abstract    Using a transnational methodology and sources ...   \n",
       "theme                                        Military History   \n",
       "\n",
       "                                                          124  \\\n",
       "Unnamed: 0                                                135   \n",
       "year                                                     2018   \n",
       "title       Stop or I'll Shoot, Comply and I Won't: The Di...   \n",
       "abstract    There is a dilemma at the heart of coercion. S...   \n",
       "theme                                          IR Scholarship   \n",
       "\n",
       "                                                          125  \n",
       "Unnamed: 0                                                136  \n",
       "year                                                     2018  \n",
       "title       Unexpected Humanitarians: Albania, the U.S. Mi...  \n",
       "abstract    Using archives and oral history, this disserta...  \n",
       "theme                                        Military History  \n",
       "\n",
       "[5 rows x 126 columns]"
      ]
     },
     "execution_count": 9,
     "metadata": {},
     "output_type": "execute_result"
    }
   ],
   "source": [
    "tidy_df = pd.melt(df.reset_index(), id_vars='index')\n",
    "df.T.head()"
   ]
  }
 ],
 "metadata": {
  "kernelspec": {
   "display_name": "Python 3",
   "language": "python",
   "name": "python3"
  },
  "language_info": {
   "codemirror_mode": {
    "name": "ipython",
    "version": 3
   },
   "file_extension": ".py",
   "mimetype": "text/x-python",
   "name": "python",
   "nbconvert_exporter": "python",
   "pygments_lexer": "ipython3",
   "version": "3.7.3"
  },
  "toc": {
   "base_numbering": 1,
   "nav_menu": {},
   "number_sections": true,
   "sideBar": true,
   "skip_h1_title": false,
   "title_cell": "Table of Contents",
   "title_sidebar": "Contents",
   "toc_cell": false,
   "toc_position": {},
   "toc_section_display": true,
   "toc_window_display": false
  }
 },
 "nbformat": 4,
 "nbformat_minor": 2
}
